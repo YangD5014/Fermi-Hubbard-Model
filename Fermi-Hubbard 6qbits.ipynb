{
 "cells": [
  {
   "cell_type": "code",
   "execution_count": 1,
   "metadata": {},
   "outputs": [],
   "source": [
    "from qiskit_nature.second_q.hamiltonians import FermiHubbardModel\n",
    "from qiskit_nature.second_q.hamiltonians.lattices import LineLattice,BoundaryCondition\n",
    "from qiskit_nature.second_q.mappers import JordanWignerMapper\n",
    "from qiskit.circuit import QuantumCircuit\n",
    "from qiskit.quantum_info import Statevector\n",
    "import numpy as np\n",
    "import scipy"
   ]
  },
  {
   "cell_type": "code",
   "execution_count": 3,
   "metadata": {},
   "outputs": [],
   "source": [
    "num_nodes = 6\n",
    "boundary_condition = BoundaryCondition.PERIODIC\n",
    "line_lattice = LineLattice(num_nodes=num_nodes, boundary_condition=boundary_condition)\n",
    "\n",
    "#U is on site interaction\n",
    "#J is hopping interaction\n",
    "J = 1.0\n",
    "U = 0.1J\n",
    "fermi_hubbard_model = FermiHubbardModel(\n",
    "    line_lattice.uniform_parameters(\n",
    "        uniform_interaction=-1J,\n",
    "        uniform_onsite_potential=0.0,\n",
    "    ),\n",
    "    onsite_interaction=U,\n",
    ")\n",
    "H = fermi_hubbard_model.second_q_op()\n",
    "H = fermi_hubbard_model.second_q_op()\n",
    "H_matrix= Hamiltonian.to_matrix()\n",
    "Initial_state = QuantumCircuit(12)\n",
    "Initial_state.x(range(0,6))\n",
    "InitialState = Statevector(Initial_state)"
   ]
  },
  {
   "cell_type": "code",
   "execution_count": null,
   "metadata": {},
   "outputs": [],
   "source": []
  }
 ],
 "metadata": {
  "kernelspec": {
   "display_name": "QuantumV2",
   "language": "python",
   "name": "python3"
  },
  "language_info": {
   "codemirror_mode": {
    "name": "ipython",
    "version": 3
   },
   "file_extension": ".py",
   "mimetype": "text/x-python",
   "name": "python",
   "nbconvert_exporter": "python",
   "pygments_lexer": "ipython3",
   "version": "3.12.0"
  }
 },
 "nbformat": 4,
 "nbformat_minor": 2
}
