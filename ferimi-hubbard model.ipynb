{
 "cells": [
  {
   "cell_type": "code",
   "execution_count": 2,
   "metadata": {},
   "outputs": [],
   "source": [
    "from qiskit_nature.second_q.hamiltonians import FermiHubbardModel\n",
    "from qiskit_nature.second_q.hamiltonians.lattices import LineLattice,BoundaryCondition\n",
    "from qiskit_nature.second_q.mappers import JordanWignerMapper\n",
    "from qiskit.circuit import QuantumCircuit\n",
    "from qiskit.quantum_info import Statevector\n",
    "import numpy as np\n",
    "import scipy"
   ]
  },
  {
   "cell_type": "code",
   "execution_count": 3,
   "metadata": {},
   "outputs": [],
   "source": [
    "num_nodes = 6\n",
    "boundary_condition = BoundaryCondition.PERIODIC\n",
    "line_lattice = LineLattice(num_nodes=num_nodes, boundary_condition=boundary_condition)\n",
    "\n",
    "#U is on site interaction\n",
    "#J is hopping interaction\n",
    "J = 1.0\n",
    "U = 0.1J\n",
    "fermi_hubbard_model = FermiHubbardModel(\n",
    "    line_lattice.uniform_parameters(\n",
    "        uniform_interaction=-1J,\n",
    "        uniform_onsite_potential=0.0,\n",
    "    ),\n",
    "    onsite_interaction=U,\n",
    ")"
   ]
  },
  {
   "cell_type": "code",
   "execution_count": 5,
   "metadata": {},
   "outputs": [
    {
     "data": {
      "image/png": "[encoded data removed]",
      "text/plain": [
       "<Figure size 221.914x1036.78 with 1 Axes>"
      ]
     },
     "execution_count": 5,
     "metadata": {},
     "output_type": "execute_result"
    }
   ],
   "source": [
    "H = fermi_hubbard_model.second_q_op()\n",
    "Initial_state = QuantumCircuit(12)\n",
    "Initial_state.x(range(0,6))\n",
    "InitialState = Statevector(Initial_state)\n",
    "Initial_state.draw('mpl')"
   ]
  },
  {
   "cell_type": "code",
   "execution_count": 6,
   "metadata": {},
   "outputs": [
    {
     "data": {
      "text/plain": [
       "array([0.+0.j, 0.+0.j, 0.+0.j, ..., 0.+0.j, 0.+0.j, 0.+0.j])"
      ]
     },
     "execution_count": 6,
     "metadata": {},
     "output_type": "execute_result"
    }
   ],
   "source": [
    "InitialState.data"
   ]
  },
  {
   "cell_type": "code",
   "execution_count": 7,
   "metadata": {},
   "outputs": [],
   "source": [
    "time_step = 0.01\n",
    "num_time_steps = 1000\n",
    "H = fermi_hubbard_model.second_q_op()\n",
    "mapper =JordanWignerMapper()\n",
    "H_matrix = mapper.map(H)\n",
    "H_matrix= H_matrix.to_matrix()\n",
    "psi_0 = InitialState.data\n"
   ]
  },
  {
   "cell_type": "code",
   "execution_count": 1,
   "metadata": {},
   "outputs": [],
   "source": [
    "import openfermion\n",
    "from openfermion.transforms import jordan_wigner\n",
    "from openfermion.linalg import get_sparse_operator\n",
    "import numpy as np\n",
    "from scipy.sparse.linalg import expm\n",
    "\n",
    "# 定义费米-哈伯德模型参数\n",
    "x_dimension = 8\n",
    "y_dimension = 1\n",
    "tunneling = 1.0\n",
    "coulomb = 0.1 * tunneling\n",
    "chemical_potential = 0.0\n",
    "magnetic_field = 0.0\n",
    "periodic = True\n",
    "spinless = False\n",
    "particle_hole_symmetry = False\n",
    "\n",
    "# 生成费米-哈伯德模型的哈密顿量\n",
    "hamiltonian = openfermion.hamiltonians.fermi_hubbard(\n",
    "    x_dimension,\n",
    "    y_dimension,\n",
    "    tunneling,\n",
    "    coulomb,\n",
    "    chemical_potential,\n",
    "    magnetic_field,\n",
    "    periodic,\n",
    "    spinless,\n",
    "    particle_hole_symmetry\n",
    ")\n",
    "\n",
    "# 使用 Jordan-Wigner 变换将费米子哈密顿量转换为量子比特哈密顿量\n",
    "qubit_hamiltonian = jordan_wigner(hamiltonian)\n",
    "\n",
    "# 将量子比特哈密顿量转换为稀疏矩阵形式\n",
    "sparse_hamiltonian = get_sparse_operator(qubit_hamiltonian)\n",
    "\n",
    "# 定义初态波函数 (例如，基态)\n",
    "initial_state = np.random.rand(sparse_hamiltonian.shape[0]) + 1j * np.random.rand(sparse_hamiltonian.shape[0])\n",
    "initial_state /= np.linalg.norm(initial_state)\n"
   ]
  },
  {
   "cell_type": "code",
   "execution_count": 5,
   "metadata": {},
   "outputs": [
    {
     "ename": "ImportError",
     "evalue": "cannot import name 'get_two_rdm' from 'openfermion.measurements' (/opt/miniconda3/envs/QuantumV2/lib/python3.12/site-packages/openfermion/measurements/__init__.py)",
     "output_type": "error",
     "traceback": [
      "\u001b[0;31m---------------------------------------------------------------------------\u001b[0m",
      "\u001b[0;31mImportError\u001b[0m                               Traceback (most recent call last)",
      "Cell \u001b[0;32mIn[5], line 1\u001b[0m\n\u001b[0;32m----> 1\u001b[0m \u001b[38;5;28;01mfrom\u001b[39;00m \u001b[38;5;21;01mopenfermion\u001b[39;00m\u001b[38;5;21;01m.\u001b[39;00m\u001b[38;5;21;01mmeasurements\u001b[39;00m \u001b[38;5;28;01mimport\u001b[39;00m get_two_rdm\n",
      "\u001b[0;31mImportError\u001b[0m: cannot import name 'get_two_rdm' from 'openfermion.measurements' (/opt/miniconda3/envs/QuantumV2/lib/python3.12/site-packages/openfermion/measurements/__init__.py)"
     ]
    }
   ],
   "source": [
    "from openfermion.measurements import get_two_rdm"
   ]
  },
  {
   "cell_type": "markdown",
   "metadata": {},
   "source": [
    "$\\rho_{ijkl} = \\langle \\Psi | c_i^\\dagger c_j^\\dagger c_k c_l | \\Psi \\rangle $"
   ]
  },
  {
   "cell_type": "markdown",
   "metadata": {},
   "source": []
  }
 ],
 "metadata": {
  "kernelspec": {
   "display_name": "QuantumV2",
   "language": "python",
   "name": "python3"
  },
  "language_info": {
   "codemirror_mode": {
    "name": "ipython",
    "version": 3
   },
   "file_extension": ".py",
   "mimetype": "text/x-python",
   "name": "python",
   "nbconvert_exporter": "python",
   "pygments_lexer": "ipython3",
   "version": "3.12.0"
  }
 },
 "nbformat": 4,
 "nbformat_minor": 2
}
