{
 "cells": [
  {
   "cell_type": "code",
   "execution_count": 5,
   "metadata": {},
   "outputs": [],
   "source": [
    "from FermiHubbard_model import Fermi_Hubbard\n",
    "from qiskit_nature.second_q.hamiltonians.lattices import LineLattice,BoundaryCondition\n",
    "from qiskit.circuit import QuantumCircuit\n",
    "from qiskit.quantum_info import  DensityMatrix,partial_trace\n",
    "from qiskit.quantum_info import Statevector\n",
    "import scipy \n",
    "import scipy.sparse as sp\n",
    "import pickle"
   ]
  },
  {
   "cell_type": "code",
   "execution_count": 2,
   "metadata": {},
   "outputs": [],
   "source": [
    "with open('./精确解1008.pickle','rb') as f:\n",
    "    states = pickle.load(f)"
   ]
  },
  {
   "cell_type": "code",
   "execution_count": 15,
   "metadata": {},
   "outputs": [
    {
     "data": {
      "text/plain": [
       "array([[7.66410699e-16+1.86766748e-34j, 0.00000000e+00+0.00000000e+00j,\n",
       "        0.00000000e+00+0.00000000e+00j, 0.00000000e+00+0.00000000e+00j],\n",
       "       [0.00000000e+00+0.00000000e+00j, 2.76840757e-08-6.79310221e-27j,\n",
       "        0.00000000e+00+0.00000000e+00j, 0.00000000e+00+0.00000000e+00j],\n",
       "       [0.00000000e+00+0.00000000e+00j, 0.00000000e+00+0.00000000e+00j,\n",
       "        2.76840757e-08-3.76196117e-26j, 0.00000000e+00+0.00000000e+00j],\n",
       "       [0.00000000e+00+0.00000000e+00j, 0.00000000e+00+0.00000000e+00j,\n",
       "        0.00000000e+00+0.00000000e+00j, 9.99999945e-01+7.42576629e-19j]])"
      ]
     },
     "execution_count": 15,
     "metadata": {},
     "output_type": "execute_result"
    }
   ],
   "source": [
    "states[0] #12个量子比特的波函数 np.array\n",
    "\n",
    "rho = DensityMatrix(Statevector(states[0])) #密度矩阵\n",
    "two_RDM = partial_trace(rho,[2, 3, 4, 5, 6, 7, 8, 9, 10, 11]) #二体密度矩阵\n",
    "two_RDM.data"
   ]
  },
  {
   "cell_type": "code",
   "execution_count": 14,
   "metadata": {},
   "outputs": [
    {
     "data": {
      "text/plain": [
       "array([[6.88265976e-13-1.27761941e-30j, 0.00000000e+00+0.00000000e+00j,\n",
       "        0.00000000e+00+0.00000000e+00j, 0.00000000e+00+0.00000000e+00j],\n",
       "       [0.00000000e+00+0.00000000e+00j, 2.48613223e-05-3.09970860e-23j,\n",
       "        0.00000000e+00+0.00000000e+00j, 0.00000000e+00+0.00000000e+00j],\n",
       "       [0.00000000e+00+0.00000000e+00j, 0.00000000e+00+0.00000000e+00j,\n",
       "        2.76833882e-08-6.79182441e-27j, 0.00000000e+00+0.00000000e+00j],\n",
       "       [0.00000000e+00+0.00000000e+00j, 0.00000000e+00+0.00000000e+00j,\n",
       "        0.00000000e+00+0.00000000e+00j, 9.99975111e-01+7.42607588e-19j]])"
      ]
     },
     "execution_count": 14,
     "metadata": {},
     "output_type": "execute_result"
    }
   ],
   "source": [
    "two_RDM_b.data"
   ]
  },
  {
   "cell_type": "code",
   "execution_count": null,
   "metadata": {},
   "outputs": [],
   "source": []
  }
 ],
 "metadata": {
  "kernelspec": {
   "display_name": "QuantumV2",
   "language": "python",
   "name": "python3"
  },
  "language_info": {
   "codemirror_mode": {
    "name": "ipython",
    "version": 3
   },
   "file_extension": ".py",
   "mimetype": "text/x-python",
   "name": "python",
   "nbconvert_exporter": "python",
   "pygments_lexer": "ipython3",
   "version": "3.11.8"
  }
 },
 "nbformat": 4,
 "nbformat_minor": 2
}
