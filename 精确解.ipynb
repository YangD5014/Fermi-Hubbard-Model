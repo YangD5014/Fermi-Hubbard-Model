{
 "cells": [
  {
   "cell_type": "code",
   "execution_count": 1,
   "metadata": {},
   "outputs": [],
   "source": [
    "from FermiHubbard_model import Fermi_Hubbard\n",
    "from qiskit_nature.second_q.hamiltonians.lattices import LineLattice,BoundaryCondition\n",
    "from qiskit.circuit import QuantumCircuit\n",
    "from qiskit.quantum_info import Statevector\n",
    "import scipy \n",
    "import scipy.sparse as sp\n",
    "import json\n",
    "from openfermion.linalg import get_sparse_operator"
   ]
  },
  {
   "cell_type": "code",
   "execution_count": 2,
   "metadata": {},
   "outputs": [],
   "source": [
    "Hamiltonian_matirx = Fermi_Hubbard(Ms=6,U=0.1,J=1.0,BoundaryCondition=BoundaryCondition.OPEN).Hamiltonian_matrix\n",
    "Initial_state = QuantumCircuit(12)\n",
    "Initial_state.x(range(0,6))\n",
    "Initial_State = Statevector(Initial_state).data"
   ]
  },
  {
   "cell_type": "code",
   "execution_count": 3,
   "metadata": {},
   "outputs": [
    {
     "name": "stdout",
     "output_type": "stream",
     "text": [
      "cuurent time=0.1s 已完成模拟\n",
      "cuurent time=0.2s 已完成模拟\n",
      "cuurent time=0.3s 已完成模拟\n"
     ]
    }
   ],
   "source": [
    "recording_state = {}\n",
    "recording_state['Time=0.0'] = Initial_State\n",
    "current_state_history = []\n",
    "\n",
    "current = 0.0\n",
    "time_step = round(0.1,2)\n",
    "Total_time =3 #步数,次数\n",
    "\n",
    "Before_state = Initial_State #初始状态\n",
    "for each_time in range(0,Total_time):\n",
    "    each_time = round(each_time,2)\n",
    "    current += time_step\n",
    "    current = round(current,2)\n",
    "    time_evloution = scipy.linalg.expm(-1j*Hamiltonian_matirx*time_step)\n",
    "    current_state = time_evloution @ Before_state\n",
    "    recording_state[f'Time={current}'] = current_state\n",
    "    Before_state = current_state\n",
    "    print(f'cuurent time={current}s 已完成模拟')\n",
    "    current_state_history.append(current_state)\n",
    "    # with open('./精确解1008.json','w') as f:\n",
    "    #     json.dump(recording_state,f)"
   ]
  },
  {
   "cell_type": "code",
   "execution_count": 4,
   "metadata": {},
   "outputs": [
    {
     "data": {
      "text/plain": [
       "[array([0.+0.j, 0.+0.j, 0.+0.j, ..., 0.+0.j, 0.+0.j, 0.+0.j]),\n",
       " array([0.+0.j, 0.+0.j, 0.+0.j, ..., 0.+0.j, 0.+0.j, 0.+0.j]),\n",
       " array([0.+0.j, 0.+0.j, 0.+0.j, ..., 0.+0.j, 0.+0.j, 0.+0.j])]"
      ]
     },
     "execution_count": 4,
     "metadata": {},
     "output_type": "execute_result"
    }
   ],
   "source": [
    "current_state_history"
   ]
  },
  {
   "cell_type": "code",
   "execution_count": 5,
   "metadata": {},
   "outputs": [
    {
     "data": {
      "text/plain": [
       "array([0.+0.j, 0.+0.j, 0.+0.j, ..., 0.+0.j, 0.+0.j, 0.+0.j])"
      ]
     },
     "execution_count": 5,
     "metadata": {},
     "output_type": "execute_result"
    }
   ],
   "source": [
    "Initial_State"
   ]
  },
  {
   "cell_type": "code",
   "execution_count": null,
   "metadata": {},
   "outputs": [],
   "source": []
  },
  {
   "cell_type": "code",
   "execution_count": null,
   "metadata": {},
   "outputs": [],
   "source": []
  }
 ],
 "metadata": {
  "kernelspec": {
   "display_name": "QuantumV2",
   "language": "python",
   "name": "python3"
  },
  "language_info": {
   "codemirror_mode": {
    "name": "ipython",
    "version": 3
   },
   "file_extension": ".py",
   "mimetype": "text/x-python",
   "name": "python",
   "nbconvert_exporter": "python",
   "pygments_lexer": "ipython3",
   "version": "3.12.0"
  }
 },
 "nbformat": 4,
 "nbformat_minor": 2
}
