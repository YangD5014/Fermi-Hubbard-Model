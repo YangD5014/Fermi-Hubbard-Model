{
 "cells": [
  {
   "cell_type": "code",
   "execution_count": 7,
   "metadata": {},
   "outputs": [],
   "source": [
    "from FermiHubbard_model import Fermi_Hubbard\n",
    "from qiskit_nature.second_q.hamiltonians.lattices import LineLattice,BoundaryCondition\n",
    "from qiskit.circuit import QuantumCircuit\n",
    "from qiskit.quantum_info import Statevector\n",
    "import scipy \n",
    "import scipy.sparse as sp\n",
    "import pickle\n",
    "from openfermion.linalg import get_sparse_operator"
   ]
  },
  {
   "cell_type": "code",
   "execution_count": 3,
   "metadata": {},
   "outputs": [],
   "source": [
    "Hamiltonian_matirx = Fermi_Hubbard(Ms=6,U=0.1,J=1.0,BoundaryCondition=BoundaryCondition.OPEN).Hamiltonian_matrix\n",
    "Initial_state = QuantumCircuit(12)\n",
    "Initial_state.x(range(0,6))\n",
    "Initial_State = Statevector(Initial_state).data"
   ]
  },
  {
   "cell_type": "code",
   "execution_count": 9,
   "metadata": {},
   "outputs": [
    {
     "name": "stdout",
     "output_type": "stream",
     "text": [
      "cuurent time=0.1s 已完成模拟\n",
      "cuurent time=0.2s 已完成模拟\n",
      "cuurent time=0.3s 已完成模拟\n",
      "cuurent time=0.4s 已完成模拟\n",
      "cuurent time=0.5s 已完成模拟\n",
      "cuurent time=0.6s 已完成模拟\n",
      "cuurent time=0.7s 已完成模拟\n",
      "cuurent time=0.8s 已完成模拟\n",
      "cuurent time=0.9s 已完成模拟\n",
      "cuurent time=1.0s 已完成模拟\n",
      "cuurent time=1.1s 已完成模拟\n",
      "cuurent time=1.2s 已完成模拟\n",
      "cuurent time=1.3s 已完成模拟\n",
      "cuurent time=1.4s 已完成模拟\n",
      "cuurent time=1.5s 已完成模拟\n",
      "cuurent time=1.6s 已完成模拟\n",
      "cuurent time=1.7s 已完成模拟\n",
      "cuurent time=1.8s 已完成模拟\n",
      "cuurent time=1.9s 已完成模拟\n",
      "cuurent time=2.0s 已完成模拟\n",
      "cuurent time=2.1s 已完成模拟\n",
      "cuurent time=2.2s 已完成模拟\n",
      "cuurent time=2.3s 已完成模拟\n",
      "cuurent time=2.4s 已完成模拟\n",
      "cuurent time=2.5s 已完成模拟\n",
      "cuurent time=2.6s 已完成模拟\n",
      "cuurent time=2.7s 已完成模拟\n",
      "cuurent time=2.8s 已完成模拟\n",
      "cuurent time=2.9s 已完成模拟\n",
      "cuurent time=3.0s 已完成模拟\n",
      "cuurent time=3.1s 已完成模拟\n",
      "cuurent time=3.2s 已完成模拟\n",
      "cuurent time=3.3s 已完成模拟\n",
      "cuurent time=3.4s 已完成模拟\n",
      "cuurent time=3.5s 已完成模拟\n",
      "cuurent time=3.6s 已完成模拟\n",
      "cuurent time=3.7s 已完成模拟\n",
      "cuurent time=3.8s 已完成模拟\n",
      "cuurent time=3.9s 已完成模拟\n",
      "cuurent time=4.0s 已完成模拟\n",
      "cuurent time=4.1s 已完成模拟\n",
      "cuurent time=4.2s 已完成模拟\n",
      "cuurent time=4.3s 已完成模拟\n",
      "cuurent time=4.4s 已完成模拟\n",
      "cuurent time=4.5s 已完成模拟\n",
      "cuurent time=4.6s 已完成模拟\n",
      "cuurent time=4.7s 已完成模拟\n",
      "cuurent time=4.8s 已完成模拟\n",
      "cuurent time=4.9s 已完成模拟\n",
      "cuurent time=5.0s 已完成模拟\n",
      "cuurent time=5.1s 已完成模拟\n",
      "cuurent time=5.2s 已完成模拟\n",
      "cuurent time=5.3s 已完成模拟\n",
      "cuurent time=5.4s 已完成模拟\n",
      "cuurent time=5.5s 已完成模拟\n",
      "cuurent time=5.6s 已完成模拟\n",
      "cuurent time=5.7s 已完成模拟\n",
      "cuurent time=5.8s 已完成模拟\n",
      "cuurent time=5.9s 已完成模拟\n",
      "cuurent time=6.0s 已完成模拟\n",
      "cuurent time=6.1s 已完成模拟\n",
      "cuurent time=6.2s 已完成模拟\n",
      "cuurent time=6.3s 已完成模拟\n",
      "cuurent time=6.4s 已完成模拟\n",
      "cuurent time=6.5s 已完成模拟\n",
      "cuurent time=6.6s 已完成模拟\n",
      "cuurent time=6.7s 已完成模拟\n",
      "cuurent time=6.8s 已完成模拟\n",
      "cuurent time=6.9s 已完成模拟\n",
      "cuurent time=7.0s 已完成模拟\n",
      "cuurent time=7.1s 已完成模拟\n",
      "cuurent time=7.2s 已完成模拟\n",
      "cuurent time=7.3s 已完成模拟\n",
      "cuurent time=7.4s 已完成模拟\n",
      "cuurent time=7.5s 已完成模拟\n",
      "cuurent time=7.6s 已完成模拟\n",
      "cuurent time=7.7s 已完成模拟\n",
      "cuurent time=7.8s 已完成模拟\n",
      "cuurent time=7.9s 已完成模拟\n",
      "cuurent time=8.0s 已完成模拟\n",
      "cuurent time=8.1s 已完成模拟\n",
      "cuurent time=8.2s 已完成模拟\n",
      "cuurent time=8.3s 已完成模拟\n",
      "cuurent time=8.4s 已完成模拟\n",
      "cuurent time=8.5s 已完成模拟\n",
      "cuurent time=8.6s 已完成模拟\n",
      "cuurent time=8.7s 已完成模拟\n",
      "cuurent time=8.8s 已完成模拟\n",
      "cuurent time=8.9s 已完成模拟\n",
      "cuurent time=9.0s 已完成模拟\n",
      "cuurent time=9.1s 已完成模拟\n",
      "cuurent time=9.2s 已完成模拟\n",
      "cuurent time=9.3s 已完成模拟\n",
      "cuurent time=9.4s 已完成模拟\n",
      "cuurent time=9.5s 已完成模拟\n",
      "cuurent time=9.6s 已完成模拟\n",
      "cuurent time=9.7s 已完成模拟\n",
      "cuurent time=9.8s 已完成模拟\n",
      "cuurent time=9.9s 已完成模拟\n",
      "cuurent time=10.0s 已完成模拟\n"
     ]
    }
   ],
   "source": [
    "recording_state = {}\n",
    "recording_state['Time=0.0'] = Initial_State.tolist()\n",
    "current_state_history = []\n",
    "\n",
    "current = 0.0\n",
    "time_step = round(0.1,2)\n",
    "Total_time =100 #步数,次数\n",
    "\n",
    "Before_state = Initial_State #初始状态\n",
    "for each_time in range(0,Total_time):\n",
    "    each_time = round(each_time,2)\n",
    "    current += time_step\n",
    "    current = round(current,2)\n",
    "    time_evloution = scipy.linalg.expm(-1j*Hamiltonian_matirx*time_step)\n",
    "    current_state = time_evloution @ Before_state\n",
    "    recording_state[f'Time={current}'] = current_state.tolist()\n",
    "    Before_state = current_state\n",
    "    print(f'cuurent time={current}s 已完成模拟')\n",
    "    current_state_history.append(current_state)\n",
    "    with open('./精确解1008.pickle','wb') as f:\n",
    "        pickle.dump(current_state_history,f)\n",
    "        "
   ]
  },
  {
   "cell_type": "code",
   "execution_count": 1,
   "metadata": {},
   "outputs": [],
   "source": [
    "from qiskit.quantum_info import DensityMatrix\n"
   ]
  },
  {
   "cell_type": "code",
   "execution_count": 2,
   "metadata": {},
   "outputs": [
    {
     "ename": "NameError",
     "evalue": "name 'Initial_State' is not defined",
     "output_type": "error",
     "traceback": [
      "\u001b[0;31m---------------------------------------------------------------------------\u001b[0m",
      "\u001b[0;31mNameError\u001b[0m                                 Traceback (most recent call last)",
      "Cell \u001b[0;32mIn[2], line 1\u001b[0m\n\u001b[0;32m----> 1\u001b[0m RDM \u001b[38;5;241m=\u001b[39m DensityMatrix(data\u001b[38;5;241m=\u001b[39m\u001b[43mInitial_State\u001b[49m)\n",
      "\u001b[0;31mNameError\u001b[0m: name 'Initial_State' is not defined"
     ]
    }
   ],
   "source": [
    "RDM = DensityMatrix(data=Initial_State)"
   ]
  },
  {
   "cell_type": "code",
   "execution_count": 15,
   "metadata": {},
   "outputs": [
    {
     "data": {
      "text/plain": [
       "(4096, 4096)"
      ]
     },
     "execution_count": 15,
     "metadata": {},
     "output_type": "execute_result"
    }
   ],
   "source": [
    "RDM.data.shape"
   ]
  },
  {
   "cell_type": "code",
   "execution_count": 16,
   "metadata": {},
   "outputs": [
    {
     "data": {
      "text/plain": [
       "4096"
      ]
     },
     "execution_count": 16,
     "metadata": {},
     "output_type": "execute_result"
    }
   ],
   "source": [
    "2**12"
   ]
  },
  {
   "cell_type": "code",
   "execution_count": null,
   "metadata": {},
   "outputs": [],
   "source": []
  }
 ],
 "metadata": {
  "kernelspec": {
   "display_name": "QuantumV2",
   "language": "python",
   "name": "python3"
  },
  "language_info": {
   "codemirror_mode": {
    "name": "ipython",
    "version": 3
   },
   "file_extension": ".py",
   "mimetype": "text/x-python",
   "name": "python",
   "nbconvert_exporter": "python",
   "pygments_lexer": "ipython3",
   "version": "3.11.8"
  }
 },
 "nbformat": 4,
 "nbformat_minor": 2
}
